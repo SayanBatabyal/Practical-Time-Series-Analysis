{
 "cells": [
  {
   "cell_type": "markdown",
   "metadata": {},
   "source": [
    "# Autocovariance coefficients"
   ]
  },
  {
   "cell_type": "markdown",
   "metadata": {},
   "source": [
    "We are going to simulate a purely random process.\n",
    "\n",
    "It's a purely random process the time series with no special pattern"
   ]
  },
  {
   "cell_type": "code",
   "execution_count": 6,
   "metadata": {},
   "outputs": [],
   "source": [
    "# Imports\n",
    "\n",
    "import numpy as np\n",
    "import matplotlib.pyplot as plt\n",
    "from statsmodels.graphics.tsaplots import plot_acf\n",
    "from statsmodels.tsa.stattools import acf\n",
    "\n",
    "%matplotlib inline"
   ]
  },
  {
   "cell_type": "code",
   "execution_count": 2,
   "metadata": {},
   "outputs": [
    {
     "data": {
      "image/png": "[encoded data removed]",
      "text/plain": [
       "<Figure size 432x288 with 1 Axes>"
      ]
     },
     "metadata": {
      "needs_background": "light"
     },
     "output_type": "display_data"
    }
   ],
   "source": [
    "np.random.seed(12)\n",
    "\n",
    "purely_random_process=np.random.normal(size=100)\n",
    "\n",
    "plt.hist(purely_random_process);"
   ]
  },
  {
   "cell_type": "markdown",
   "metadata": {},
   "source": [
    "Before we define autocorrelation function, we assume the weak stationarity, that is, no systematic change in mean, no systematic change in variation,no periodic fluctuations\n",
    "\n",
    "So autocorrelation coefficient between Xt and Xt+k\n",
    "\n",
    "Remeber, the most important part here is the time difference between these two random variables, which is k, is going to be defined by rk, which is gamma k over gamma 0\n",
    "$$\n",
    "rk=\\frac{ck} {c0}\n",
    "$$\n",
    "\n",
    "gamma k being auto covariance coefficient of lag k\n",
    "\n",
    "gamma 0 is auto covariance coefficient at lag 0 (which is the 1° auto covariance coefficient)\n",
    "\n",
    "This rk, which is autocorrelation coefficient, is always between -1 and 1\n",
    "\n",
    "It always start at 1 since:\n",
    "$$\n",
    "r0=\\frac{c0} {c0} = 1\n",
    "$$\n",
    "\n"
   ]
  },
  {
   "cell_type": "markdown",
   "metadata": {},
   "source": [
    "The plot is basically autocorrelation coeffients at different lags\n",
    "\n",
    "It always starts at 1"
   ]
  },
  {
   "cell_type": "code",
   "execution_count": 7,
   "metadata": {},
   "outputs": [
    {
     "data": {
      "image/png": "[encoded data removed]",
      "text/plain": [
       "<Figure size 432x288 with 1 Axes>"
      ]
     },
     "execution_count": 7,
     "metadata": {},
     "output_type": "execute_result"
    },
    {
     "data": {
      "image/png": "[encoded data removed]",
      "text/plain": [
       "<Figure size 432x288 with 1 Axes>"
      ]
     },
     "metadata": {
      "needs_background": "light"
     },
     "output_type": "display_data"
    }
   ],
   "source": [
    "plot_acf(purely_random_process, lags=20)"
   ]
  },
  {
   "cell_type": "markdown",
   "metadata": {},
   "source": [
    "I do not have much correlatn between all the different lags, just because we generated this data as a purely random process, so we do not expect to see the correlation within different lags\n",
    " \n",
    "The blue area show us the significance level.\n",
    "\n",
    "By default, this is set to a 95% confidence interval, suggesting that correlation values outside of this cone are very likely a correlation and not a statistical fluke.\n",
    "\n",
    "So this plot tells us that there are not much sifgnificant lags in the previous steps.\n",
    "\n",
    "There is one of them that maybe can be attributed directly to a chas(?)"
   ]
  },
  {
   "cell_type": "code",
   "execution_count": 3,
   "metadata": {},
   "outputs": [
    {
     "data": {
      "text/plain": [
       "array([ 1.        , -0.06737078,  0.07218137,  0.06822845, -0.00846052,\n",
       "        0.02855711, -0.23773391,  0.10811091, -0.05209381,  0.04570429,\n",
       "        0.09888557,  0.04075941,  0.15128939, -0.06920081, -0.06536034,\n",
       "       -0.12638778, -0.15032559, -0.11015561, -0.00510457, -0.09676186,\n",
       "        0.03974716])"
      ]
     },
     "execution_count": 3,
     "metadata": {},
     "output_type": "execute_result"
    }
   ],
   "source": [
    "acf(purely_random_process, nlags=20)"
   ]
  },
  {
   "cell_type": "markdown",
   "metadata": {},
   "source": [
    "Basically we have nonsignificant autocorrelations until lag 20"
   ]
  }
 ],
 "metadata": {
  "kernelspec": {
   "display_name": "Python [conda env:Time_Series_Analysis-Cousera]",
   "language": "python",
   "name": "conda-env-Time_Series_Analysis-Cousera-py"
  },
  "language_info": {
   "codemirror_mode": {
    "name": "ipython",
    "version": 3
   },
   "file_extension": ".py",
   "mimetype": "text/x-python",
   "name": "python",
   "nbconvert_exporter": "python",
   "pygments_lexer": "ipython3",
   "version": "3.7.2"
  }
 },
 "nbformat": 4,
 "nbformat_minor": 2
}
