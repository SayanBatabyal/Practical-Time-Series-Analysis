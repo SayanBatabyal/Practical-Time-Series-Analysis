{
 "cells": [
  {
   "cell_type": "markdown",
   "metadata": {},
   "source": [
    "# Stationarity - First Examples... White Noise and Random Walks"
   ]
  },
  {
   "cell_type": "markdown",
   "metadata": {},
   "source": [
    "We are looking at stochastic process and their realizations called time series.\n",
    "\n",
    "And in these lectures, we're looking at them through the lens of stationarity. \n",
    "\n",
    "Stationarity is a crucial concept for us and it's a very important idea that allows us to try to say something meaningful about the stochastic process, a complicated mathematical object based upon a single realization or a time series. \n",
    "\n",
    "Perhaps a day that's set that you have acquired. This is something you can't do with a coin. \n",
    "\n",
    "If you have a coin and you observe tails on one toss, you can't really say anything meaningful about the coin or at least the distribution of heads and tails. All you can really say is that yes, this coin can give a tails but you can't say anything beyond that. So, stationarity really helps us to get some good work done."
   ]
  },
  {
   "cell_type": "markdown",
   "metadata": {},
   "source": [
    "### Objectives:\n",
    "- White Noise\n",
    "- Random Walks\n",
    "- Introduction to Moving Averages\n",
    "\n",
    "We're looking at stationarity through some very simple examples as we get started.\n",
    "\n",
    "These are more mathematically oriented. And as we move through the course, we move more into data sets\n",
    "\n",
    "White noise will be trivially stationary. \n",
    "\n",
    "Random walks, which will not be stationary. \n",
    "\n",
    "Introduction to moving averages. These will be stationary processes."
   ]
  },
  {
   "cell_type": "markdown",
   "metadata": {},
   "source": [
    "### Recall the definition \n",
    "\n",
    "Process is weakly stationary if the mean function as we look up and down the stochastic process and look at the average going on of each point, the mean function is constant. It is the same everywhere we look. \n",
    "\n",
    "The ACF, the autocovariance function, but depends just upon lag spacing. \n",
    "\n",
    "Again, it doesn't matter where you are along the process. If you have two random variables and you would like to know their covariance, all you need to know is how far away they're separated. Not where they are along the process."
   ]
  },
  {
   "cell_type": "markdown",
   "metadata": {},
   "source": [
    "## White noise is stationary!"
   ]
  },
  {
   "cell_type": "markdown",
   "metadata": {},
   "source": [
    "If you think of a random variable family, let's say a set, a sequence of IID random variables, they might be normally distributed but really they don't have to be. All we care about at the moment is that they're independent, identically distributed with mean of 0 and constant variance.\n",
    "$$\n",
    "X_t ≈ iid(0, \\sigma^2)\n",
    "$$\n",
    "\n",
    "$$\n",
    "X_t ≈ iid N(0, \\sigma^2)\n",
    "$$\n",
    "\n",
    "Then the mean function, as a function of index t is 0 everywhere, so of course it's constant. \n",
    "\n",
    "$$\n",
    "\\gamma(t_1,t_2) = \\begin{cases} \n",
    "                   0 & t_1 \\neq t_2 \\\\\n",
    "                  \\sigma^2 &t_1 = t_2 \\\\\n",
    "               \\end{cases}\n",
    "$$\n",
    "\n",
    "\n",
    "If you look at the autocovariance function, gamma of t1 and t2, then we find that that's essentially a delta function, it's 0 when t1 and t2 do not agree. \n",
    "\n",
    "In other words, when you have two different random variables and as sigma squared, it reduces the variance when the subscripts agree. \n",
    "\n",
    "So, almost trivially you could say white noise is stationary."
   ]
  },
  {
   "cell_type": "markdown",
   "metadata": {},
   "source": [
    "## Random Walks are not stationary!"
   ]
  },
  {
   "cell_type": "markdown",
   "metadata": {},
   "source": [
    "Let's build a random walk off of a family of IID random variables.\n",
    "\n",
    "$$\n",
    "Z_t ≈ iid(\\mu, \\sigma^2)\n",
    "$$\n",
    "\n",
    "I'm using mu and sigma squared for the mean, and the variance for each one of the random variables. Mu could be 0, but in general, we'll go with a generic mu. We build a walk in t steps as your first position will be just where you got to off of your first variable.\n",
    "\n",
    "\n",
    "Your second position is where you get to by adding your first position and now taking another step of size to be determined by Z2. And we continue in that way, moving to the left or the right in random amounts.\n",
    "\n",
    "$$\n",
    "X_1 = Z_1\n",
    "$$\n",
    "$$\n",
    "X_2 = X_1 + Z_2 = Z_1 + Z_2\n",
    "$$\n",
    "$$\n",
    "X_3 = X_2 + Z_3 = Z_1 + Z_2 + Z_3\n",
    "$$\n",
    "$$\n",
    "...\n",
    "$$\n",
    "$$\n",
    "X_t = X_t-1 + Z_t = \\sum_{i=1}^t Z_i \n",
    "$$\n",
    "\n",
    "Your position at any time, t then, is just the sum, the aggregate of all the individual steps you took. A journey is really just the sum of its individual steps.\n",
    "\n",
    "![formulas](https://uploaddeimagens.com.br/images/001/921/721/full/Capturar.PNG?1551017553)\n",
    "\n",
    "When we explore the expected value as a function of index t here for our position x. \n",
    "\n",
    "Then and it can encourage enough to think about expected value, not really as a number associated with random variable but more as an operator that will make many variable manipulations much, much simpler to comprehend. \n",
    "\n",
    "Then we take an expected value of sum of these independent random variables. \n",
    "\n",
    "The expected value operator moves through the sum. That is an appropriate independence that just happens with random variables generically. And we find that the expected value of position looks like t times Mu.\n",
    "\n",
    "In other words if mu is not zero, the expected value is growing with time.\n",
    "\n",
    "Same for the variance. Since the X sub t is built on a family of independent increments here, the Z of t, then that will allow the variance upper to move through the sum. In general, it won't, now that there's a dependency structure among Z. But here, we started with independent identically distributed random variable. So, the variance operator moves to the summation, no problem.\n",
    "\n",
    "\n",
    "Variance grows with time. Variance is increasingly linearly with time.\n",
    "\n",
    "To have a meaningful process, we won't take sigma squared equals to zero. So, you are seeing that the variance is not constant. If the variance isn't constant, your process is not stationary.\n"
   ]
  },
  {
   "cell_type": "markdown",
   "metadata": {},
   "source": [
    "## Moving Average Process  are stationary!\n",
    "\n",
    "Another one of the canonical stochastic processes has to do with taking a family of random variables. We'll work with IID, independent identically distributed Z sub t.\n",
    "\n",
    "$$\n",
    "Z_t ≈ iid(0, \\sigma^2)\n",
    "$$\n",
    "\n",
    "We'll give them zero mean and constant variance.\n",
    "\n",
    "![MA(q) process](https://uploaddeimagens.com.br/images/001/921/726/original/Capturar.PNG?1551017842)\n",
    "\n",
    "\n",
    "We'll define a moving average process of order q as this called as X of t is equal to a linear combination of the underlying Z's. \n",
    "\n",
    "You can center your notation by looking at Z of t and then moving up and down along Z of t. \n",
    "\n",
    "But we'll follow the notation, the convention that says that X is a function of index t is equal to the noise at t plus the noise at t-1 and we're giving a certain weighting as we move through. \n",
    "\n",
    "There are different sets of beta that people like for different processes. You might have an image and you might be smoothing it or you might be doing edge detection. \n",
    "\n",
    "There are varieties of reasons people have for doing things like moving average processes. We're not making the claim that you see moving average processes just by themselves in nature all that often. It's a little bit hard to come up with an example of a naturally occurring moving average process just in its simple form like this. But the procedure of taking components and weighting them and adding together is really very basic, very common, and so it's important to study this. We'll also see a relationship later between moving average and auto-regressive processes that'll make this worthwhile. We can do some nice theoretical things with moving average processes to make our lives easier.\n",
    "\n",
    "![graph](https://uploaddeimagens.com.br/images/001/921/731/full/Capturar.PNG?1551017987)\n",
    "\n",
    "White noise process up on top, no real structure to speak of, it's just noise. \n",
    "\n",
    "Now, down below, we've created a moving average process, where we let Q = 3. I did a simple moving average. So, we're just taking our components, adding them together, and dividing by the number of components. \n",
    "\n",
    "So, with Q = 3, we're dividing 4(Q+1) components where we're just taking an average of four components. \n",
    "\n",
    "You can see that we're losing some of our higher frequencies and gaining some low frequencies. What we're doing is seeing structure between neighbors. If your random variables are close together, there is actually going to be a dependency structure now.\n",
    "\n",
    "\n",
    "That's with Q = 3. \n",
    "\n",
    "I'm going to show you now and we hope that it'll just layover perfectly, Q = 9. \n",
    "\n",
    "![q=9](https://uploaddeimagens.com.br/images/001/921/736/full/Capturar.PNG?1551018097)\n",
    "\n",
    "\n",
    "When I go to Q = 9, we induce still longer scale correlations, relationships between neighbors. \n",
    "\n",
    "We're smoothing even more, and I guess this just makes sense. \n",
    "\n",
    "We're including nine numbers, or ten actually, numbers in our average rather than nine."
   ]
  }
 ],
 "metadata": {
  "kernelspec": {
   "display_name": "Python [conda env:Time_Series_Analysis-Cousera]",
   "language": "python",
   "name": "conda-env-Time_Series_Analysis-Cousera-py"
  },
  "language_info": {
   "codemirror_mode": {
    "name": "ipython",
    "version": 3
   },
   "file_extension": ".py",
   "mimetype": "text/x-python",
   "name": "python",
   "nbconvert_exporter": "python",
   "pygments_lexer": "ipython3",
   "version": "3.7.2"
  }
 },
 "nbformat": 4,
 "nbformat_minor": 2
}
